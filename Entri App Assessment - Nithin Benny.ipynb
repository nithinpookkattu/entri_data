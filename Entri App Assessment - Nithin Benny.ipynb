{
 "cells": [
  {
   "cell_type": "markdown",
   "id": "ea575087",
   "metadata": {},
   "source": [
    "# ENTRI: DATA ANALYST INTERVIEW CHALLENGE"
   ]
  },
  {
   "cell_type": "code",
   "execution_count": 1,
   "id": "ac130bad",
   "metadata": {},
   "outputs": [],
   "source": [
    "#importing required libraries\n",
    "import pandas as pd\n",
    "import math\n",
    "import datetime\n",
    "from datetime import datetime\n",
    "from datetime import timedelta"
   ]
  },
  {
   "cell_type": "code",
   "execution_count": 2,
   "id": "59f84c63",
   "metadata": {},
   "outputs": [],
   "source": [
    "#importing data from github\n",
    "data_1 = pd.read_csv(\"https://raw.githubusercontent.com/nithinpookkattu/entri_data/main/user_purchase_data.csv\")\n",
    "\n",
    "data_2 = pd.read_csv(\"https://raw.githubusercontent.com/nithinpookkattu/entri_data/main/track_subscription_data.csv\")\n",
    "\n",
    "data_3 = pd.read_csv(\"https://raw.githubusercontent.com/nithinpookkattu/entri_data/main/user_quiz_attempt_data.csv\")\n",
    "\n",
    "data_4 = pd.read_csv(\"https://raw.githubusercontent.com/nithinpookkattu/entri_data/main/user_video_activity_data.csv\")\n",
    "\n",
    "data_5 = pd.read_csv(\"https://raw.githubusercontent.com/nithinpookkattu/entri_data/main/user_studycard_data.csv\")"
   ]
  },
  {
   "cell_type": "code",
   "execution_count": 3,
   "id": "4ef40399",
   "metadata": {},
   "outputs": [],
   "source": [
    "user_df = data_1\n",
    "n_user_df = data_1"
   ]
  },
  {
   "cell_type": "code",
   "execution_count": 4,
   "id": "56307983",
   "metadata": {},
   "outputs": [
    {
     "name": "stdout",
     "output_type": "stream",
     "text": [
      "424\n"
     ]
    }
   ],
   "source": [
    "#Creating list of customers not purchased from Entri App\n",
    "n_user_df = n_user_df[n_user_df[\"date_of_first_purhcase\"].isnull()]\n",
    "n_user_list = n_user_df[\"user_uid\"].tolist()\n",
    "print(len(n_user_list))"
   ]
  },
  {
   "cell_type": "code",
   "execution_count": 5,
   "id": "76dbcf1e",
   "metadata": {},
   "outputs": [
    {
     "name": "stdout",
     "output_type": "stream",
     "text": [
      "576\n"
     ]
    }
   ],
   "source": [
    "#Creating list of customers purchased from Entri App\n",
    "user_df.dropna(subset=[\"date_of_first_purhcase\"], inplace=True)\n",
    "user_list = user_df[\"user_uid\"].tolist()\n",
    "print(len(user_list))"
   ]
  },
  {
   "cell_type": "code",
   "execution_count": 6,
   "id": "73ae749a",
   "metadata": {},
   "outputs": [
    {
     "name": "stdout",
     "output_type": "stream",
     "text": [
      "Conversion Rate = 57.6 %\n"
     ]
    }
   ],
   "source": [
    "#Conversion Rate\n",
    "cr = (len(user_list) * 100) / (len(user_list) + len(n_user_list))\n",
    "print('Conversion Rate =', cr,'%')"
   ]
  },
  {
   "cell_type": "code",
   "execution_count": 7,
   "id": "c76a9fde",
   "metadata": {},
   "outputs": [
    {
     "name": "stdout",
     "output_type": "stream",
     "text": [
      "Number of data having 'Date of first purchase' before 'Date joined' =  83 entries.\n"
     ]
    }
   ],
   "source": [
    "data_1['date_joined'] = pd.to_datetime(data_1['date_joined'])\n",
    "data_1['date_of_first_purhcase'] = pd.to_datetime(data_1['date_of_first_purhcase'])\n",
    "\n",
    "data_1['difference'] = data_1['date_of_first_purhcase'].sub(data_1['date_joined'], axis=0)\n",
    "data_1['difference'] = pd.to_numeric(data_1['difference'])\n",
    "print(\"Number of data having 'Date of first purchase' before 'Date joined' = \", sum(data_1.difference < 0) ,\"entries.\")"
   ]
  },
  {
   "cell_type": "code",
   "execution_count": 8,
   "id": "0b968796",
   "metadata": {},
   "outputs": [],
   "source": [
    "#splitting track_subscription_data between users and non users\n",
    "df2_1 = pd.DataFrame()\n",
    "df2_2 = pd.DataFrame()\n",
    "\n",
    "#course list subscribed by users\n",
    "for i in user_list:\n",
    "    d2_u = data_2[data_2['user_id'] == i]\n",
    "    df2_1 = df2_1.append(d2_u)   \n",
    "    \n",
    "user_pur_list = df2_1['track_slug'].value_counts()\n",
    "\n",
    "#course list subscribed by users\n",
    "for j in n_user_list:\n",
    "    d2_nu = data_2[data_2['user_id'] == j]\n",
    "    df2_2 = df2_2.append(d2_nu)\n",
    "    \n",
    "non_user_pur_list = df2_2['track_slug'].value_counts()"
   ]
  },
  {
   "cell_type": "code",
   "execution_count": 9,
   "id": "513cb7e7",
   "metadata": {},
   "outputs": [
    {
     "name": "stdout",
     "output_type": "stream",
     "text": [
      "Spoken_eng_hindi     249\n",
      "kerala-psc           125\n",
      "spoken-english       103\n",
      "Eng_Inver_Coc         48\n",
      "BANK-INS              33\n",
      "                    ... \n",
      "YourStory_Academy      1\n",
      "NEET                   1\n",
      "SDQ                    1\n",
      "JEE                    1\n",
      "Busi_Course            1\n",
      "Name: track_slug, Length: 66, dtype: int64\n"
     ]
    }
   ],
   "source": [
    "print(user_pur_list)"
   ]
  },
  {
   "cell_type": "code",
   "execution_count": 10,
   "id": "cb41128b",
   "metadata": {},
   "outputs": [
    {
     "name": "stdout",
     "output_type": "stream",
     "text": [
      "spoken-english          110\n",
      "kerala-psc               38\n",
      "Spoken_eng_hindi         35\n",
      "BANK-INS                 31\n",
      "ssc                      29\n",
      "TNPSC                    28\n",
      "rrb                      23\n",
      "Anb_eng                  23\n",
      "Apti_ess                 20\n",
      "Group_2_2A               11\n",
      "SE_Junior                 9\n",
      "Eng_With_Awal             9\n",
      "Eng_Inver_Coc             8\n",
      "GATE_Civil                7\n",
      "UPGOVT                    7\n",
      "TSPSC                     6\n",
      "Public_Speaking           6\n",
      "eng_car_success           6\n",
      "KPSC_Driver               5\n",
      "Group_1                   4\n",
      "EEE                       4\n",
      "Staff_Nurse               4\n",
      "PET                       4\n",
      "Police_Exams_Special      4\n",
      "HCA_Kerala                3\n",
      "GATE-Electrical           3\n",
      "KTET                      3\n",
      "Civil_Tech                3\n",
      "MPGOVT                    3\n",
      "APPSC                     3\n",
      "DSSSB                     3\n",
      "Stock_mar                 3\n",
      "Tet                       3\n",
      "karnataka-psc             3\n",
      "Digi_Mark                 2\n",
      "CTET                      2\n",
      "cet                       2\n",
      "Kerala_AS                 2\n",
      "Fin_Acc                   1\n",
      "K_HSA                     1\n",
      "SUPERTET                  1\n",
      "GATE_Mechanical           1\n",
      "OP_KWA                    1\n",
      "CO-BANK                   1\n",
      "NET                       1\n",
      "Computer_Tech             1\n",
      "Quant_Easy                1\n",
      "Youtube_telugu            1\n",
      "STUH                      1\n",
      "Mech_Tech                 1\n",
      "GATE_Electronics          1\n",
      "Name: track_slug, dtype: int64\n"
     ]
    }
   ],
   "source": [
    "print(non_user_pur_list)"
   ]
  },
  {
   "cell_type": "code",
   "execution_count": 11,
   "id": "dfa95040",
   "metadata": {},
   "outputs": [
    {
     "name": "stdout",
     "output_type": "stream",
     "text": [
      "Conversion Rate of top 5 courses selected by users and non users \n",
      "\n",
      "Spoken_eng_hindi 87.68 %\n",
      "kerala-psc 76.69 %\n",
      "spoken-english 48.36 %\n",
      "Eng_Inver_Coc 85.71 %\n",
      "BANK-INS 51.56 %\n",
      "ssc 49.12 %\n"
     ]
    }
   ],
   "source": [
    "cour_list = ['Spoken_eng_hindi','kerala-psc','spoken-english','Eng_Inver_Coc','BANK-INS', 'ssc']\n",
    "\n",
    "print('Conversion Rate of top 5 courses selected by users and non users \\n')\n",
    "for i in cour_list:\n",
    "    cr_cour = round((user_pur_list[i] * 100) / (user_pur_list[i] + non_user_pur_list[i]), 2)\n",
    "    print(i, cr_cour, '%')"
   ]
  },
  {
   "cell_type": "markdown",
   "id": "453df5fe",
   "metadata": {},
   "source": [
    "#### Among the above courses, Spoken_eng_hindi, kerala-psc and Eng_Inver_Coc courses are making most of the users create a buy on Entri App whereas spoken-english, BANK-INS, and ssc courses can be improved by taking feedback from the users who are not joining for these courses."
   ]
  },
  {
   "cell_type": "code",
   "execution_count": 12,
   "id": "29418d41",
   "metadata": {},
   "outputs": [],
   "source": [
    "data_4['watched_at'] = pd.to_datetime(data_4['watched_at'])\n",
    "data_4 = data_4.sort_values(by = ['user_id','watched_at'])\n",
    "data_4['date'] = data_4['watched_at'].dt.date"
   ]
  },
  {
   "cell_type": "code",
   "execution_count": 13,
   "id": "5f02d5a3",
   "metadata": {},
   "outputs": [],
   "source": [
    "#user activitiy\n",
    "df_1 = pd.DataFrame()\n",
    "for i in user_list:\n",
    "        d4_a1 = data_4[data_4['user_id'] == i]\n",
    "        df_1 = df_1.append(d4_a1)"
   ]
  },
  {
   "cell_type": "code",
   "execution_count": 14,
   "id": "26280ab5",
   "metadata": {},
   "outputs": [],
   "source": [
    "#non-user activitiy\n",
    "df_2 = pd.DataFrame()\n",
    "for i in n_user_list:\n",
    "        d4_b1 = data_4[data_4['user_id'] == i]\n",
    "        df_2 = df_2.append(d4_b1)"
   ]
  },
  {
   "cell_type": "code",
   "execution_count": 15,
   "id": "fb5f8d04",
   "metadata": {},
   "outputs": [
    {
     "name": "stdout",
     "output_type": "stream",
     "text": [
      "Involvement of user group is  37.46 %\n",
      "Involvement of non-user group is  26.66 %\n"
     ]
    }
   ],
   "source": [
    "#involvement of users and non-user groups\n",
    "tot_wat_dur_1 = df_1['watched_duration'].sum() \n",
    "tot_dur_1 = df_1['duration'].sum()\n",
    "\n",
    "inv_1 = round((tot_wat_dur_1 * 100) / (tot_dur_1),2)\n",
    "print(\"Involvement of user group is \",inv_1,\"%\")\n",
    "\n",
    "tot_wat_dur_2 = df_2['watched_duration'].sum() \n",
    "tot_dur_2 = df_2['duration'].sum()\n",
    "\n",
    "inv_2 = round((tot_wat_dur_2 * 100) / (tot_dur_2),2)\n",
    "print(\"Involvement of non-user group is \",inv_2,\"%\")"
   ]
  },
  {
   "cell_type": "code",
   "execution_count": 16,
   "id": "30535db2",
   "metadata": {},
   "outputs": [],
   "source": [
    "#Calculating the first week user activity - users\n",
    "st_da = 0\n",
    "st_da = pd.to_datetime(st_da)\n",
    "en_da = 0\n",
    "en_da = pd.to_datetime(en_da)\n",
    "\n",
    "df_3 = pd.DataFrame()\n",
    "data_list_not_viewed = []\n",
    "\n",
    "for i in range(len(user_list)):\n",
    "    try:\n",
    "        d4_a3 = data_4[data_4['user_id'] == user_list[i]]\n",
    "        st_da = d4_a3['date'].iloc[0]\n",
    "        en_da = st_da + timedelta(days = 6)\n",
    "        d4_list = d4_a3[d4_a3[\"date\"] <= en_da]\n",
    "        df_3 = df_3.append(d4_list) \n",
    "    except:\n",
    "        data_list_not_viewed.append(user_list[i])\n",
    "\n",
    "#list of users who didn't watched any videos\n",
    "#print(data_list_not_viewed)\n",
    "\n",
    "#involvement of users groups (first week)\n",
    "tot_wat_dur_3 = df_3['watched_duration'].sum() \n",
    "tot_dur_3 = df_3['duration'].sum()\n",
    "inv_3 = round((tot_wat_dur_3 * 100) / (tot_dur_3),2)"
   ]
  },
  {
   "cell_type": "code",
   "execution_count": 17,
   "id": "79850e04",
   "metadata": {},
   "outputs": [],
   "source": [
    "#Calculating the first week user activity - non-users\n",
    "st_da = 0\n",
    "st_da = pd.to_datetime(st_da)\n",
    "en_da = 0\n",
    "en_da = pd.to_datetime(en_da)\n",
    "\n",
    "df_3 = pd.DataFrame()\n",
    "data_list_not_viewed = []\n",
    "\n",
    "for i in range(len(n_user_list)):\n",
    "    try:\n",
    "        d4_a3 = data_4[data_4['user_id'] == n_user_list[i]]\n",
    "        st_da = d4_a3['date'].iloc[0]\n",
    "        en_da = st_da + timedelta(days = 6)\n",
    "        d4_list = d4_a3[d4_a3[\"date\"] <= en_da]\n",
    "        df_3 = df_3.append(d4_list) \n",
    "    except:\n",
    "        data_list_not_viewed.append(n_user_list[i])\n",
    "\n",
    "#list of users who didn't watched any videos\n",
    "#print(data_list_not_viewed)\n",
    "\n",
    "#involvement of users groups (first week)\n",
    "tot_wat_dur_4 = df_3['watched_duration'].sum() \n",
    "tot_dur_4 = df_3['duration'].sum()\n",
    "inv_4 = round((tot_wat_dur_4 * 100) / (tot_dur_4),2)"
   ]
  },
  {
   "cell_type": "code",
   "execution_count": 18,
   "id": "3af0b020",
   "metadata": {},
   "outputs": [
    {
     "name": "stdout",
     "output_type": "stream",
     "text": [
      "Involvement of user group (first week) is  36.74 %\n",
      "Involvement of non-user group (first week) is  26.9 %\n"
     ]
    }
   ],
   "source": [
    "print(\"Involvement of user group (first week) is \",inv_3,\"%\")\n",
    "print(\"Involvement of non-user group (first week) is \",inv_4,\"%\")"
   ]
  },
  {
   "cell_type": "markdown",
   "id": "574d210f",
   "metadata": {},
   "source": [
    "#### The involvement of user group increased after first week whereas that of non-ser group dreceased after first week."
   ]
  },
  {
   "cell_type": "code",
   "execution_count": 19,
   "id": "52b2dd2e",
   "metadata": {},
   "outputs": [],
   "source": [
    "data_3 = data_3.sort_values(by = 'user_id')"
   ]
  },
  {
   "cell_type": "code",
   "execution_count": 20,
   "id": "1808abaa",
   "metadata": {},
   "outputs": [],
   "source": [
    "df_4 = pd.DataFrame()\n",
    "for i in user_list:\n",
    "        d3_a1 = data_3[data_3['user_id'] == i]\n",
    "        df_4 = df_4.append(d3_a1)"
   ]
  },
  {
   "cell_type": "code",
   "execution_count": 21,
   "id": "cb585895",
   "metadata": {},
   "outputs": [],
   "source": [
    "df_5 = pd.DataFrame()\n",
    "for i in n_user_list:\n",
    "        d3_a2 = data_3[data_3['user_id'] == i]\n",
    "        df_5 = df_5.append(d3_a2)"
   ]
  },
  {
   "cell_type": "code",
   "execution_count": 22,
   "id": "721d4f6d",
   "metadata": {},
   "outputs": [
    {
     "name": "stdout",
     "output_type": "stream",
     "text": [
      "          COMPLETE  CREATE  PAUSE  PROGRESS\n",
      "USER         64.80   32.36   2.18      0.66\n",
      "NON-USER     61.46   33.61   3.80      1.13\n"
     ]
    }
   ],
   "source": [
    "#grouping according to statue\n",
    "grouped_1 = df_4.groupby(df_4.status)\n",
    "com_u = grouped_1.get_group(\"COMPLETE\")\n",
    "q1 = round((len(com_u) * 100)/len(df_4),2)\n",
    "cre_u = grouped_1.get_group(\"CREATE\")\n",
    "q2 = round((len(cre_u) * 100)/len(df_4),2)\n",
    "pau_u = grouped_1.get_group(\"PAUSE\")\n",
    "q3 = round((len(pau_u) * 100)/len(df_4),2)\n",
    "pro_u = grouped_1.get_group(\"PROGRESS\")\n",
    "q4 = round((len(pro_u) * 100)/len(df_4), 2)\n",
    "#print(q1, q2, q3, q4)\n",
    "\n",
    "grouped_2 = df_5.groupby(df_5.status)\n",
    "com_nu = grouped_2.get_group(\"COMPLETE\")\n",
    "q5 = round((len(com_nu) * 100)/len(df_5),2)\n",
    "cre_nu = grouped_2.get_group(\"CREATE\")\n",
    "q6 = round((len(cre_nu) * 100)/len(df_5),2)\n",
    "pau_nu = grouped_2.get_group(\"PAUSE\")\n",
    "q7 = round((len(pau_nu) * 100)/len(df_5),2)\n",
    "pro_nu = grouped_2.get_group(\"PROGRESS\")\n",
    "q8 = round((len(pro_nu) * 100)/len(df_5),2)\n",
    "#print(q5, q6, q7, q8)\n",
    "\n",
    "data = {'USER': [q1, q2, q3, q4], 'NON-USER': [q5, q6, q7, q8],}\n",
    "\n",
    "quiz = pd.DataFrame.from_dict(data,  orient='index', columns = ['COMPLETE', 'CREATE', 'PAUSE', 'PROGRESS'])\n",
    "print(quiz)"
   ]
  },
  {
   "cell_type": "markdown",
   "id": "6abd45f1",
   "metadata": {},
   "source": [
    "#### The bahaviour of users and non-users are almost similar in the case of taking quizes."
   ]
  },
  {
   "cell_type": "code",
   "execution_count": 23,
   "id": "2d4a7ce3",
   "metadata": {},
   "outputs": [
    {
     "data": {
      "text/html": [
       "<div>\n",
       "<style scoped>\n",
       "    .dataframe tbody tr th:only-of-type {\n",
       "        vertical-align: middle;\n",
       "    }\n",
       "\n",
       "    .dataframe tbody tr th {\n",
       "        vertical-align: top;\n",
       "    }\n",
       "\n",
       "    .dataframe thead th {\n",
       "        text-align: right;\n",
       "    }\n",
       "</style>\n",
       "<table border=\"1\" class=\"dataframe\">\n",
       "  <thead>\n",
       "    <tr style=\"text-align: right;\">\n",
       "      <th></th>\n",
       "      <th>user_id</th>\n",
       "      <th>activity_id</th>\n",
       "      <th>start_time</th>\n",
       "      <th>Day</th>\n",
       "      <th>Hour</th>\n",
       "    </tr>\n",
       "  </thead>\n",
       "  <tbody>\n",
       "    <tr>\n",
       "      <th>0</th>\n",
       "      <td>1642</td>\n",
       "      <td>4197126</td>\n",
       "      <td>2021-06-04 16:51:51.454473+00:00</td>\n",
       "      <td>4</td>\n",
       "      <td>16</td>\n",
       "    </tr>\n",
       "    <tr>\n",
       "      <th>1</th>\n",
       "      <td>1642</td>\n",
       "      <td>4197075</td>\n",
       "      <td>2021-06-04 16:43:10.115201+00:00</td>\n",
       "      <td>4</td>\n",
       "      <td>16</td>\n",
       "    </tr>\n",
       "    <tr>\n",
       "      <th>2</th>\n",
       "      <td>1642</td>\n",
       "      <td>4197074</td>\n",
       "      <td>2021-06-04 16:43:10.082261+00:00</td>\n",
       "      <td>4</td>\n",
       "      <td>16</td>\n",
       "    </tr>\n",
       "    <tr>\n",
       "      <th>3</th>\n",
       "      <td>1642</td>\n",
       "      <td>4197577</td>\n",
       "      <td>2021-06-04 18:20:58.487196+00:00</td>\n",
       "      <td>4</td>\n",
       "      <td>18</td>\n",
       "    </tr>\n",
       "    <tr>\n",
       "      <th>4</th>\n",
       "      <td>1642</td>\n",
       "      <td>4197174</td>\n",
       "      <td>2021-06-04 16:57:46.487970+00:00</td>\n",
       "      <td>4</td>\n",
       "      <td>16</td>\n",
       "    </tr>\n",
       "    <tr>\n",
       "      <th>...</th>\n",
       "      <td>...</td>\n",
       "      <td>...</td>\n",
       "      <td>...</td>\n",
       "      <td>...</td>\n",
       "      <td>...</td>\n",
       "    </tr>\n",
       "    <tr>\n",
       "      <th>3475</th>\n",
       "      <td>375461</td>\n",
       "      <td>4612797</td>\n",
       "      <td>2021-08-03 09:41:31.730705+00:00</td>\n",
       "      <td>1</td>\n",
       "      <td>9</td>\n",
       "    </tr>\n",
       "    <tr>\n",
       "      <th>3476</th>\n",
       "      <td>338577</td>\n",
       "      <td>4612894</td>\n",
       "      <td>2021-08-03 09:59:38.472271+00:00</td>\n",
       "      <td>1</td>\n",
       "      <td>9</td>\n",
       "    </tr>\n",
       "    <tr>\n",
       "      <th>3477</th>\n",
       "      <td>308949</td>\n",
       "      <td>4613078</td>\n",
       "      <td>2021-08-03 10:39:02.743418+00:00</td>\n",
       "      <td>1</td>\n",
       "      <td>10</td>\n",
       "    </tr>\n",
       "    <tr>\n",
       "      <th>3478</th>\n",
       "      <td>338577</td>\n",
       "      <td>4612998</td>\n",
       "      <td>2021-08-03 10:22:20.357825+00:00</td>\n",
       "      <td>1</td>\n",
       "      <td>10</td>\n",
       "    </tr>\n",
       "    <tr>\n",
       "      <th>3479</th>\n",
       "      <td>391477</td>\n",
       "      <td>4613637</td>\n",
       "      <td>2021-08-03 11:45:29.222723+00:00</td>\n",
       "      <td>1</td>\n",
       "      <td>11</td>\n",
       "    </tr>\n",
       "  </tbody>\n",
       "</table>\n",
       "<p>3480 rows × 5 columns</p>\n",
       "</div>"
      ],
      "text/plain": [
       "      user_id  activity_id                       start_time  Day  Hour\n",
       "0        1642      4197126 2021-06-04 16:51:51.454473+00:00    4    16\n",
       "1        1642      4197075 2021-06-04 16:43:10.115201+00:00    4    16\n",
       "2        1642      4197074 2021-06-04 16:43:10.082261+00:00    4    16\n",
       "3        1642      4197577 2021-06-04 18:20:58.487196+00:00    4    18\n",
       "4        1642      4197174 2021-06-04 16:57:46.487970+00:00    4    16\n",
       "...       ...          ...                              ...  ...   ...\n",
       "3475   375461      4612797 2021-08-03 09:41:31.730705+00:00    1     9\n",
       "3476   338577      4612894 2021-08-03 09:59:38.472271+00:00    1     9\n",
       "3477   308949      4613078 2021-08-03 10:39:02.743418+00:00    1    10\n",
       "3478   338577      4612998 2021-08-03 10:22:20.357825+00:00    1    10\n",
       "3479   391477      4613637 2021-08-03 11:45:29.222723+00:00    1    11\n",
       "\n",
       "[3480 rows x 5 columns]"
      ]
     },
     "execution_count": 23,
     "metadata": {},
     "output_type": "execute_result"
    }
   ],
   "source": [
    "data_5['start_time'] = pd.to_datetime(data_5['start_time'])\n",
    "data_5['Day'] = data_5['start_time'].dt.weekday\n",
    "data_5['Hour'] = data_5['start_time'].dt.hour\n",
    "data_5"
   ]
  },
  {
   "cell_type": "code",
   "execution_count": 24,
   "id": "ee12b875",
   "metadata": {},
   "outputs": [
    {
     "name": "stdout",
     "output_type": "stream",
     "text": [
      "0 - 535\n",
      "1 - 519\n",
      "2 - 529\n",
      "3 - 468\n",
      "4 - 450\n",
      "5 - 501\n",
      "6 - 478\n"
     ]
    }
   ],
   "source": [
    "for j in range(0,7):\n",
    "    subset_1 = data_5[data_5[\"Day\"] == j]\n",
    "    print(j, \"-\", len(subset_1))"
   ]
  },
  {
   "cell_type": "markdown",
   "id": "96dc9598",
   "metadata": {},
   "source": [
    "#### The video watching behaviour throughout the week is almost similar."
   ]
  },
  {
   "cell_type": "code",
   "execution_count": 25,
   "id": "d754a2d8",
   "metadata": {},
   "outputs": [
    {
     "name": "stdout",
     "output_type": "stream",
     "text": [
      "0 - 45\n",
      "1 - 69\n",
      "2 - 124\n",
      "3 - 139\n",
      "4 - 152\n",
      "5 - 166\n",
      "6 - 223\n",
      "7 - 209\n",
      "8 - 187\n",
      "9 - 177\n",
      "10 - 192\n",
      "11 - 187\n",
      "12 - 204\n",
      "13 - 242\n",
      "14 - 177\n",
      "15 - 238\n",
      "16 - 227\n",
      "17 - 221\n",
      "18 - 143\n",
      "19 - 75\n",
      "20 - 31\n",
      "21 - 20\n",
      "22 - 19\n",
      "23 - 13\n"
     ]
    }
   ],
   "source": [
    "for k in range(0,24):\n",
    "    subset_2 = data_5[data_5[\"Hour\"] == k]\n",
    "    print(k, '-', len(subset_2))"
   ]
  },
  {
   "cell_type": "code",
   "execution_count": 26,
   "id": "f1e97dc4",
   "metadata": {},
   "outputs": [
    {
     "name": "stdout",
     "output_type": "stream",
     "text": [
      "User Activity\n",
      "00:00:00hrs. to 05:59:59hrs.  695\n",
      "06:00:00hrs. to 11:59:59hrs.  1175\n",
      "12:00:00hrs. to 17:59:59hrs.  1309\n",
      "18:00:00hrs. to 23:59:59hrs.  301\n"
     ]
    }
   ],
   "source": [
    "#user according to time\n",
    "print(\"User Activity\")\n",
    "total_06 = 0\n",
    "for k in range(0,6):\n",
    "    subset_2 = data_5[data_5[\"Hour\"] == k]\n",
    "    total_06 = total_06 + len(subset_2)\n",
    "print(\"00:00:00hrs. to 05:59:59hrs. \", total_06)\n",
    "\n",
    "total_612 = 0\n",
    "for l in range(6,12):\n",
    "    subset_2 = data_5[data_5[\"Hour\"] == l]\n",
    "    total_612 = total_612 + len(subset_2)\n",
    "print(\"06:00:00hrs. to 11:59:59hrs. \", total_612)\n",
    "\n",
    "total_1218 = 0\n",
    "for m in range(12,18):\n",
    "    subset_2 = data_5[data_5[\"Hour\"] == m]\n",
    "    total_1218 = total_1218 + len(subset_2)\n",
    "print(\"12:00:00hrs. to 17:59:59hrs. \", total_1218)\n",
    "\n",
    "total_1824 = 0\n",
    "for n in range(18,24):\n",
    "    subset_2 = data_5[data_5[\"Hour\"] == n]\n",
    "    total_1824 = total_1824 + len(subset_2)\n",
    "print(\"18:00:00hrs. to 23:59:59hrs. \", total_1824)"
   ]
  },
  {
   "cell_type": "markdown",
   "id": "bfa6b79c",
   "metadata": {},
   "source": [
    "#### Most users prefer between 12:00 noon and 06:00pm to attend courses folowed by between 06:00am and 12:00 noon"
   ]
  }
 ],
 "metadata": {
  "kernelspec": {
   "display_name": "Python 3",
   "language": "python",
   "name": "python3"
  },
  "language_info": {
   "codemirror_mode": {
    "name": "ipython",
    "version": 3
   },
   "file_extension": ".py",
   "mimetype": "text/x-python",
   "name": "python",
   "nbconvert_exporter": "python",
   "pygments_lexer": "ipython3",
   "version": "3.8.8"
  }
 },
 "nbformat": 4,
 "nbformat_minor": 5
}
